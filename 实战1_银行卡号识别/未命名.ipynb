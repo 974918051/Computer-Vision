{
 "cells": [
  {
   "cell_type": "code",
   "execution_count": 1,
   "metadata": {},
   "outputs": [],
   "source": [
    "import cv2\n",
    "import numpy as np\n",
    "import matplotlib.pyplot as plt"
   ]
  },
  {
   "cell_type": "code",
   "execution_count": 2,
   "metadata": {},
   "outputs": [],
   "source": [
    "def cv_show(name, img):\n",
    "    cv2.startWindowThread()\n",
    "    cv2.imshow(name, img)\n",
    "    cv2.waitKey(0)\n",
    "    cv2.destroyAllWindows()\n",
    "    cv2.waitKey(1)"
   ]
  },
  {
   "cell_type": "code",
   "execution_count": 3,
   "metadata": {},
   "outputs": [],
   "source": [
    "img = cv2.imread('模版.png')\n",
    "cv_show('模版', img)"
   ]
  },
  {
   "cell_type": "code",
   "execution_count": 4,
   "metadata": {},
   "outputs": [],
   "source": [
    "img_gray = cv2.cvtColor(img, cv2.COLOR_BGR2GRAY)\n",
    "cv_show('模版_灰度图', img_gray)"
   ]
  },
  {
   "cell_type": "code",
   "execution_count": 5,
   "metadata": {},
   "outputs": [],
   "source": [
    "img_binary = cv2.threshold(img_gray, 10, 255, cv2.THRESH_BINARY_INV)[1]\n",
    "cv_show('模版_二值图', img_binary)"
   ]
  },
  {
   "cell_type": "code",
   "execution_count": 6,
   "metadata": {
    "scrolled": true
   },
   "outputs": [
    {
     "name": "stdout",
     "output_type": "stream",
     "text": [
      "(10,)\n"
     ]
    }
   ],
   "source": [
    "# 轮廓检测\n",
    "## cv2.findContours()函数应输入二值图（即黑白图），cv2.RETR_EXTERNAL只检测外轮廓，cv2.CHAIN_APPROX_SIMPLE只保留终点坐标\n",
    "## cv2.findContours()函数返回两个值，一个是轮廓本身，还有一个是每条轮廓对应的属性\n",
    "refCnts, hierarchy = cv2.findContours(img_binary.copy(), cv2.RETR_EXTERNAL, cv2.CHAIN_APPROX_SIMPLE)\n",
    "cv2.drawContours(img, refCnts, -1, (0,0,255), 3)\n",
    "cv_show('img', img)\n",
    "print(np.array(refCnts).shape)"
   ]
  },
  {
   "cell_type": "markdown",
   "metadata": {},
   "source": [
    "## 模版处理方法："
   ]
  },
  {
   "cell_type": "code",
   "execution_count": 7,
   "metadata": {},
   "outputs": [],
   "source": [
    "# 定义轮廓排序函数\n",
    "def sort_contours(cnts, method='left-to-right'):\n",
    "    reverse = False\n",
    "    i = 1\n",
    "    \n",
    "    if method == 'right-to-left' or method == 'bottom-to-top':\n",
    "        reverse = True\n",
    "        \n",
    "    if method == 'left-to-right' or method == 'top-to-bottom':\n",
    "        i = 0\n",
    "    boundingBoxes = [cv2.boundingRect(c) for c in cnts] #找到最小外接矩形,返回包含x,y,h,w四个值的tuple\n",
    "    # zip(cnts,boundingBoxes）位置上指可迭代的元素；key是指按什么方式进行排序，这里key=lambda b:b[1][i] b只\n",
    "    # 是一个变量名，可以是任何一个变量，b[1][i]指按第二元素中的第i个元素就行排序也就是按boundingBoxes中的第i个元素\n",
    "    # 进行排序；reverse是反转，false为不反转，true为反转。\n",
    "    (cnts, boundingBoxes) = zip(*sorted(zip(cnts, boundingBoxes),\n",
    "                                key = lambda b: b[1][i], reverse=reverse))\n",
    "    return cnts, boundingBoxes"
   ]
  },
  {
   "cell_type": "code",
   "execution_count": 8,
   "metadata": {},
   "outputs": [],
   "source": [
    "# 轮廓排序\n",
    "refCnts = sort_contours(refCnts, method='left-to-right')[0]"
   ]
  },
  {
   "cell_type": "code",
   "execution_count": 9,
   "metadata": {},
   "outputs": [],
   "source": [
    "# 遍历每个轮廓\n",
    "digits = {}\n",
    "\n",
    "for (i, c) in enumerate(refCnts):\n",
    "    # 计算外接矩形，并且resize大小\n",
    "    (x, y, w, h) = cv2.boundingRect(c)\n",
    "    roi = img_gray[y:y + h, x:x + w]\n",
    "    roi = cv2.resize(roi, (57, 88))\n",
    "    digits[i] = roi\n",
    "    cv_show('roi', roi)"
   ]
  },
  {
   "cell_type": "code",
   "execution_count": 10,
   "metadata": {},
   "outputs": [
    {
     "data": {
      "text/plain": [
       "dict_items([(0, array([[255, 255, 255, ..., 255, 255, 255],\n",
       "       [255, 255, 252, ..., 255, 255, 255],\n",
       "       [255, 248, 170, ..., 208, 255, 255],\n",
       "       ...,\n",
       "       [255, 224, 108, ..., 152, 245, 255],\n",
       "       [255, 255, 229, ..., 247, 255, 255],\n",
       "       [255, 255, 255, ..., 255, 255, 255]], dtype=uint8)), (1, array([[246, 172,  83, ..., 255, 255, 255],\n",
       "       [142,  33,   6, ..., 255, 255, 255],\n",
       "       [ 38,   5,   0, ..., 255, 255, 255],\n",
       "       ...,\n",
       "       [ 20,   2,   0, ...,   0,   0,   1],\n",
       "       [ 88,  13,   1, ...,   0,   4,  21],\n",
       "       [217, 104,  28, ...,   9,  52, 148]], dtype=uint8)), (2, array([[221, 130,  57, ..., 255, 255, 255],\n",
       "       [ 73,  13,   3, ..., 255, 255, 255],\n",
       "       [  7,   1,   0, ..., 218, 255, 255],\n",
       "       ...,\n",
       "       [  0,   0,   0, ...,   0,   1,  13],\n",
       "       [  0,   0,   0, ...,   1,  11,  73],\n",
       "       [  0,   0,   0, ...,  23,  92, 205]], dtype=uint8)), (3, array([[246, 175,  86, ..., 255, 255, 255],\n",
       "       [142,  33,   6, ..., 246, 255, 255],\n",
       "       [ 40,   5,   0, ..., 144, 239, 255],\n",
       "       ...,\n",
       "       [ 21,   2,   0, ...,  89, 209, 255],\n",
       "       [ 90,  14,   1, ..., 217, 255, 255],\n",
       "       [215, 103,  27, ..., 255, 255, 255]], dtype=uint8)), (4, array([[247, 171,  90, ..., 255, 255, 255],\n",
       "       [161,  53,   9, ..., 255, 255, 255],\n",
       "       [ 62,  15,   0, ..., 255, 255, 255],\n",
       "       ...,\n",
       "       [255, 255, 255, ..., 255, 255, 255],\n",
       "       [255, 255, 255, ..., 255, 255, 255],\n",
       "       [255, 255, 255, ..., 255, 255, 255]], dtype=uint8)), (5, array([[255, 255, 255, ...,  49, 112, 211],\n",
       "       [255, 255, 255, ...,   3,  11,  57],\n",
       "       [255, 255, 255, ...,   0,   0,   4],\n",
       "       ...,\n",
       "       [255, 255, 255, ...,  93, 216, 255],\n",
       "       [255, 255, 255, ..., 214, 255, 255],\n",
       "       [255, 255, 255, ..., 255, 255, 255]], dtype=uint8)), (6, array([[178,  73,  24, ..., 255, 255, 255],\n",
       "       [ 47,   8,   1, ..., 255, 255, 255],\n",
       "       [  5,   0,   0, ..., 255, 255, 255],\n",
       "       ...,\n",
       "       [  9,   1,   0, ...,   0,   4,  35],\n",
       "       [ 68,  11,   1, ...,   3,  21, 122],\n",
       "       [206,  98,  25, ...,  45, 134, 235]], dtype=uint8)), (7, array([[254, 198,  97, ...,   0,   0,   0],\n",
       "       [198,  59,  11, ...,   0,   0,   0],\n",
       "       [ 88,  12,   1, ...,   0,   0,   0],\n",
       "       ...,\n",
       "       [255, 255, 255, ..., 255, 255, 255],\n",
       "       [255, 255, 255, ..., 255, 255, 255],\n",
       "       [255, 255, 255, ..., 255, 255, 255]], dtype=uint8)), (8, array([[255, 255, 255, ..., 255, 255, 255],\n",
       "       [255, 255, 255, ..., 255, 255, 255],\n",
       "       [255, 255, 255, ..., 255, 255, 255],\n",
       "       ...,\n",
       "       [253, 179,  59, ...,  85, 209, 255],\n",
       "       [255, 253, 192, ..., 217, 255, 255],\n",
       "       [255, 255, 255, ..., 255, 255, 255]], dtype=uint8)), (9, array([[255, 211, 107, ..., 147, 238, 255],\n",
       "       [201,  64,  11, ...,  24, 116, 236],\n",
       "       [ 86,  10,   0, ...,   2,  24, 149],\n",
       "       ...,\n",
       "       [255, 255, 255, ...,   0,  11, 102],\n",
       "       [255, 255, 255, ...,   7,  54, 199],\n",
       "       [255, 255, 255, ...,  67, 187, 252]], dtype=uint8))])"
      ]
     },
     "execution_count": 10,
     "metadata": {},
     "output_type": "execute_result"
    }
   ],
   "source": [
    "digits.items()"
   ]
  },
  {
   "cell_type": "markdown",
   "metadata": {},
   "source": [
    "## 输入图像处理："
   ]
  },
  {
   "cell_type": "code",
   "execution_count": 11,
   "metadata": {},
   "outputs": [],
   "source": [
    "image = cv2.imread('卡2.png')\n",
    "image = cv2.resize(image, (300,189))\n",
    "image_gray = cv2.cvtColor(image, cv2.COLOR_BGR2GRAY)\n",
    "cv_show('image_gray', image_gray)"
   ]
  },
  {
   "cell_type": "code",
   "execution_count": 12,
   "metadata": {},
   "outputs": [],
   "source": [
    "# 礼帽操作，突出图像更明亮的区域\n",
    "rectKernel = cv2.getStructuringElement(cv2.MORPH_RECT, (9,3))# 初始化两个卷积核\n",
    "sqKernel = cv2.getStructuringElement(cv2.MORPH_RECT, (5,5))\n",
    "\n",
    "tophat = cv2.morphologyEx(image_gray, cv2.MORPH_TOPHAT, rectKernel)\n",
    "cv_show('tophat', tophat)"
   ]
  },
  {
   "cell_type": "code",
   "execution_count": 13,
   "metadata": {},
   "outputs": [],
   "source": [
    "grad_x = cv2.Sobel(tophat, ddepth=cv2.CV_32F, dx=1, dy=0, ksize=-1)# ksize=-1相当于3*3的卷积核\n",
    "grad_y = cv2.Sobel(tophat, ddepth=cv2.CV_32F, dx=0, dy=1, ksize=-1)\n",
    "grad = cv2.addWeighted(grad_x, 0.5, grad_y, 0.5, 0)"
   ]
  },
  {
   "cell_type": "code",
   "execution_count": 14,
   "metadata": {},
   "outputs": [],
   "source": [
    "grad_x = np.absolute(grad_x)\n",
    "# cv_show('grad_x', grad_x)\n",
    "(minVal, maxVal) = (np.min(grad_x), np.max(grad_x))\n",
    "grad_x = (255 * ((grad_x - minVal) / (maxVal - minVal))) # 归一化\n",
    "grad_x = grad_x.astype('uint8')"
   ]
  },
  {
   "cell_type": "code",
   "execution_count": 15,
   "metadata": {},
   "outputs": [
    {
     "name": "stdout",
     "output_type": "stream",
     "text": [
      "(189, 300)\n"
     ]
    }
   ],
   "source": [
    "print(np.array(grad_x).shape)\n",
    "cv_show('grad_x', grad_x)"
   ]
  },
  {
   "cell_type": "code",
   "execution_count": 16,
   "metadata": {},
   "outputs": [],
   "source": [
    "# 通过闭操作（先膨胀，后腐蚀），将数字连在一起\n",
    "grad_x = cv2.morphologyEx(grad_x, cv2.MORPH_CLOSE, rectKernel)\n",
    "cv_show('grad_x', grad_x)\n",
    "# 二值化处理，THRESH_OTSU会自动寻找合适的阈值，适合双峰，需把阈值参数设置为0\n",
    "thresh = cv2.threshold(grad_x, 0, 255, cv2.THRESH_BINARY | cv2.THRESH_OTSU)[1]\n",
    "cv_show('thresh', thresh)"
   ]
  },
  {
   "cell_type": "code",
   "execution_count": 17,
   "metadata": {},
   "outputs": [],
   "source": [
    "# 再进行一次闭操作\n",
    "thresh = cv2.morphologyEx(thresh, cv2.MORPH_CLOSE, sqKernel)\n",
    "cv_show('thresh', thresh)"
   ]
  },
  {
   "cell_type": "code",
   "execution_count": 18,
   "metadata": {},
   "outputs": [],
   "source": [
    "# 计算轮廓\n",
    "threshCnts, hierarchy = cv2.findContours(thresh.copy(), cv2.RETR_EXTERNAL,\n",
    "                                                 cv2.CHAIN_APPROX_SIMPLE)\n",
    "cnts = threshCnts\n",
    "cur_img = image.copy()\n",
    "cv2.drawContours(cur_img, cnts, -1, (0,0,255), 3)\n",
    "cv_show('img', cur_img)"
   ]
  },
  {
   "cell_type": "code",
   "execution_count": 19,
   "metadata": {},
   "outputs": [],
   "source": [
    "# 遍历轮廓\n",
    "locs = []\n",
    "\n",
    "for (i, c) in enumerate(cnts):\n",
    "    # 计算矩形\n",
    "    (x, y, w, h) = cv2.boundingRect(c)\n",
    "    ar = w / float(h)\n",
    "    \n",
    "    # 选择合适的区域，根据实际任务来\n",
    "    if ar > 2.5 and ar < 4.0:\n",
    "        if(w > 40 and w < 55) and (h > 10 and h < 20):\n",
    "            locs.append((x, y, w, h))"
   ]
  },
  {
   "cell_type": "code",
   "execution_count": null,
   "metadata": {},
   "outputs": [],
   "source": [
    "# 将轮廓从左到右排序\n",
    "locs = sorted(locs, key=lambda x:x[0])\n",
    "output = []"
   ]
  },
  {
   "cell_type": "code",
   "execution_count": null,
   "metadata": {},
   "outputs": [],
   "source": [
    "# 遍历每个轮廓中的数字\n",
    "for (i, (gx, gy, gw, gh)) in enumerate(locs):\n",
    "    groupOutput = []\n",
    "    # 根据坐标提取每个轮廓\n",
    "    group = image_gray[gy - 5: gy + gh +5, gx - 5: gx + gw +5]\n",
    "#     cv_show('group', group)\n",
    "    \n",
    "    # 预处理\n",
    "    group = cv2.threshold(group, 0, 255, cv2.THRESH_BINARY | cv2.THRESH_OTSU)[1] # 二值化\n",
    "#     cv_show('group', group)\n",
    "    # 计算每一组的轮廓\n",
    "    digitCnts, hierarchy = cv2.findContours(group.copy(), cv2.RETR_EXTERNAL, cv2.CHAIN_APPROX_SIMPLE)\n",
    "    # 排序\n",
    "    digitCnts = sort_contours(digitCnts, method ='left-to-right')[0]\n",
    "    \n",
    "    # 计算每个轮廓中的每个数值\n",
    "    for c in digitCnts:\n",
    "        (x, y, w, h) = cv2.boundingRect(c)\n",
    "        roi = group[y:y + h, x:x + w]\n",
    "        roi = cv2.resize(roi, (57, 88))\n",
    "#         cv_show('roi', roi)\n",
    "\n",
    "        # 计算匹配得分\n",
    "        scores = []\n",
    "\n",
    "        # 在模板中计算每一个得分\n",
    "        for (digit, digitROI) in digits.items():\n",
    "            # 模板匹配\n",
    "            result = cv2.matchTemplate(roi, digitROI, cv2.TM_CCOEFF)\n",
    "            print(cv2.minMaxLoc(result))\n",
    "            input()\n",
    "            (_, score, _, _) = cv2.minMaxLoc(result)\n",
    "            scores.append(score)\n",
    "            print(scores)\n",
    "\n",
    "        groupOutput.append(str(np.argmax(scores)))\n",
    "        print(groupOutput)\n",
    "        input()\n",
    "\n",
    "    cv2.rectangle(image, (gx - 5, gy - 5), (gx + gw + 5, gy + gh + 5), (0,0,255, 1))\n",
    "    cv2.putText(image, ''.join(groupOutput), (gx, gy - 15), cv2.FONT_HERSHEY_SIMPLEX, 0.65, (0,0,255), 2)\n",
    "    output.extend(groupOutput)"
   ]
  },
  {
   "cell_type": "code",
   "execution_count": 89,
   "metadata": {},
   "outputs": [
    {
     "name": "stdout",
     "output_type": "stream",
     "text": [
      "Credit Card #:1141454114454767\n"
     ]
    }
   ],
   "source": [
    "# print('Credit Card Type:{}'.format(FIRST_NUMBER[output[0]]))\n",
    "print('Credit Card #:{}'.format(''.join(output)))\n",
    "cv_show('Image', image)"
   ]
  },
  {
   "cell_type": "code",
   "execution_count": null,
   "metadata": {},
   "outputs": [],
   "source": []
  },
  {
   "cell_type": "code",
   "execution_count": null,
   "metadata": {},
   "outputs": [],
   "source": []
  },
  {
   "cell_type": "code",
   "execution_count": null,
   "metadata": {},
   "outputs": [],
   "source": []
  }
 ],
 "metadata": {
  "kernelspec": {
   "display_name": "Python 3",
   "language": "python",
   "name": "python3"
  },
  "language_info": {
   "codemirror_mode": {
    "name": "ipython",
    "version": 3
   },
   "file_extension": ".py",
   "mimetype": "text/x-python",
   "name": "python",
   "nbconvert_exporter": "python",
   "pygments_lexer": "ipython3",
   "version": "3.7.6"
  }
 },
 "nbformat": 4,
 "nbformat_minor": 4
}
