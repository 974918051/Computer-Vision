{
 "cells": [
  {
   "cell_type": "code",
   "execution_count": 48,
   "metadata": {},
   "outputs": [],
   "source": [
    "import cv2\n",
    "import numpy as np\n",
    "import matplotlib.pyplot as plt"
   ]
  },
  {
   "cell_type": "code",
   "execution_count": 51,
   "metadata": {},
   "outputs": [],
   "source": [
    "def cv_show(name, img):\n",
    "    cv2.startWindowThread()\n",
    "    cv2.imshow(name, img)\n",
    "    cv2.waitKey(0)\n",
    "    cv2.destroyAllWindows()\n",
    "    cv2.waitKey(1)"
   ]
  },
  {
   "cell_type": "code",
   "execution_count": 52,
   "metadata": {},
   "outputs": [],
   "source": [
    "img = cv2.imread('模版.png')\n",
    "cv_show('模版', img)"
   ]
  },
  {
   "cell_type": "code",
   "execution_count": 53,
   "metadata": {},
   "outputs": [],
   "source": [
    "img_gray = cv2.cvtColor(img, cv2.COLOR_BGR2GRAY)\n",
    "cv_show('模版_灰度图', img_gray)"
   ]
  },
  {
   "cell_type": "code",
   "execution_count": 54,
   "metadata": {},
   "outputs": [],
   "source": [
    "img_binary = cv2.threshold(img_gray, 10, 255, cv2.THRESH_BINARY_INV)[1]\n",
    "cv_show('模版_二值图', img_binary)"
   ]
  },
  {
   "cell_type": "code",
   "execution_count": 58,
   "metadata": {
    "scrolled": true
   },
   "outputs": [
    {
     "name": "stdout",
     "output_type": "stream",
     "text": [
      "(10,)\n"
     ]
    }
   ],
   "source": [
    "# 轮廓检测\n",
    "## cv2.findContours()函数应输入二值图（即黑白图），cv2.RETR_EXTERNAL只检测外轮廓，cv2.CHAIN_APPROX_SIMPLE只保留终点坐标\n",
    "## cv2.findContours()函数返回两个值，一个是轮廓本身，还有一个是每条轮廓对应的属性\n",
    "refCnts, hierarchy = cv2.findContours(img_binary.copy(), cv2.RETR_EXTERNAL, cv2.CHAIN_APPROX_SIMPLE)\n",
    "cv2.drawContours(img, contours, -1, (0,0,255), 3)\n",
    "cv_show('img', img)\n",
    "print(np.array(refCnts).shape)"
   ]
  },
  {
   "cell_type": "code",
   "execution_count": 96,
   "metadata": {},
   "outputs": [
    {
     "name": "stdout",
     "output_type": "stream",
     "text": [
      "(15, 20, 53, 85)\n",
      "(94, 20, 53, 85)\n",
      "(174, 20, 53, 85)\n",
      "(253, 20, 53, 85)\n",
      "(338, 20, 48, 85)\n",
      "(412, 20, 53, 85)\n",
      "(492, 20, 53, 85)\n",
      "(571, 20, 53, 85)\n",
      "(651, 20, 53, 85)\n",
      "(730, 20, 54, 85)\n"
     ]
    }
   ],
   "source": [
    "for i in range(10):\n",
    "    print(cv2.boundingRect(refCnts[i]))"
   ]
  },
  {
   "cell_type": "code",
   "execution_count": 97,
   "metadata": {},
   "outputs": [],
   "source": [
    "# 定义轮廓排序函数\n",
    "def sort_contours(cnts, method='left-to-right'):\n",
    "    reverse = False\n",
    "    i = 0\n",
    "    \n",
    "    if method == 'right-to-left' or method == 'bottom-to-top':\n",
    "        reverse = True\n",
    "        \n",
    "    if method == 'left-to-right' or method == 'top-to-bottom':\n",
    "        i = 1\n",
    "    boundingBoxes = [cv2.boundingRect(c) for c in cnts] #找到最小外接矩形,返回包含x,y,h,w四个值的tuple\n",
    "    # zip(cnts,boundingBoxes）位置上指可迭代的元素；key是指按什么方式进行排序，这里key=lambda b:b[1][i] b只\n",
    "    # 是一个变量名，可以是任何一个变量，b[1][i]指按第二元素中的第i个元素就行排序也就是按boundingBoxes中的第i个元素\n",
    "    # 进行排序；reverse是反转，false为不反转，true为反转。\n",
    "    (cnts, boundingBoxes) = zip(*sorted(zip(cnts, boundingBoxes),\n",
    "                                key = lambda b: b[1][i], reverse=reverse))\n",
    "    return cnts, boundingBoxes"
   ]
  },
  {
   "cell_type": "code",
   "execution_count": 98,
   "metadata": {},
   "outputs": [],
   "source": [
    "# 轮廓排序\n",
    "refCnts = sort_contours(refCnts, method='left-to-right')[0]"
   ]
  },
  {
   "cell_type": "code",
   "execution_count": 99,
   "metadata": {},
   "outputs": [],
   "source": [
    "# 遍历每个轮廓\n",
    "digits = {}\n",
    "\n",
    "for (i, c) in enumerate(refCnts):\n",
    "    # 计算外接矩形，并且resize大小\n",
    "    (x, y, w, h) = cv2.boundingRect(c)\n",
    "    roi = img_gray[y:y + h, x:x + w]\n",
    "    roi = cv2.resize(roi, (57, 88))\n",
    "    digits[i] = roi\n",
    "    cv_show('roi', roi)"
   ]
  },
  {
   "cell_type": "code",
   "execution_count": null,
   "metadata": {},
   "outputs": [],
   "source": []
  }
 ],
 "metadata": {
  "kernelspec": {
   "display_name": "Python 3",
   "language": "python",
   "name": "python3"
  },
  "language_info": {
   "codemirror_mode": {
    "name": "ipython",
    "version": 3
   },
   "file_extension": ".py",
   "mimetype": "text/x-python",
   "name": "python",
   "nbconvert_exporter": "python",
   "pygments_lexer": "ipython3",
   "version": "3.7.6"
  }
 },
 "nbformat": 4,
 "nbformat_minor": 4
}
